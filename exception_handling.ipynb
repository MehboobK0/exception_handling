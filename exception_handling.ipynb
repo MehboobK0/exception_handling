{
 "cells": [
  {
   "cell_type": "markdown",
   "id": "b138e90b",
   "metadata": {},
   "source": [
    "Q1. An Exception in Python is an error that occurs during the execution of a program. The difference between Exceptions and Syntax errors is that Syntax errors occur when there is a grammatical error in the code, whereas Exceptions occur during the execution of the code due to unexpected conditions or events.\n",
    "\n",
    "Q2. When an exception is not handled, it propagates up the call stack until it reaches the top-level of the program, which may lead to program termination. For example, if a division by zero exception is not handled, it will cause the program to terminate.\n",
    "\n",
    "Q3. In Python, the try, except, finally, and else statements are used to catch and handle exceptions. The try block contains the code that may raise an exception, the except block catches and handles the exception, the finally block contains cleanup code that should be executed regardless of whether an exception occurs, and the else block contains code that should be executed if no exception occurs."
   ]
  },
  {
   "cell_type": "code",
   "execution_count": 30,
   "id": "c8807f63",
   "metadata": {},
   "outputs": [
    {
     "name": "stdout",
     "output_type": "stream",
     "text": [
      "Enter a number: 55\n",
      "You entered: 55\n",
      "Execution completed.\n"
     ]
    }
   ],
   "source": [
    "# Q4. Example:\n",
    "\n",
    "try:\n",
    "    x = int(input(\"Enter a number: \"))\n",
    "except ValueError:\n",
    "    print(\"Invalid input. Please enter a valid number.\")\n",
    "else:\n",
    "    print(\"You entered:\", x)\n",
    "finally:\n",
    "    print(\"Execution completed.\")"
   ]
  },
  {
   "cell_type": "markdown",
   "id": "2a3a0a90",
   "metadata": {},
   "source": [
    "Q5. Custom Exceptions in Python are user-defined exceptions that allow developers to create their own exception types for specific scenarios. We need Custom Exceptions to provide more meaningful error messages and to make our code more readable and maintainable. For example, we can create a InvalidInputError custom exception to handle invalid input cases in our program.\n",
    "\n"
   ]
  },
  {
   "cell_type": "code",
   "execution_count": 31,
   "id": "0b2ca44e",
   "metadata": {},
   "outputs": [
    {
     "name": "stdout",
     "output_type": "stream",
     "text": [
      "Enter your age: 23\n"
     ]
    }
   ],
   "source": [
    "# Q6. Creating a custom exception class:\n",
    "\n",
    "class CustomException(Exception):\n",
    "    def __init__(self, message):\n",
    "        self.message = message\n",
    "\n",
    "def validate_age(age):\n",
    "    if age < 0 or age > 150:\n",
    "        raise CustomException(\"Invalid age. Age must be between 0 and 150.\")\n",
    "\n",
    "try:\n",
    "    age = int(input(\"Enter your age: \"))\n",
    "    validate_age(age)\n",
    "except CustomException as ce:\n",
    "    print(\"Custom Exception:\", ce.message)"
   ]
  },
  {
   "cell_type": "code",
   "execution_count": null,
   "id": "c38334f9",
   "metadata": {},
   "outputs": [],
   "source": []
  }
 ],
 "metadata": {
  "kernelspec": {
   "display_name": "Python 3 (ipykernel)",
   "language": "python",
   "name": "python3"
  },
  "language_info": {
   "codemirror_mode": {
    "name": "ipython",
    "version": 3
   },
   "file_extension": ".py",
   "mimetype": "text/x-python",
   "name": "python",
   "nbconvert_exporter": "python",
   "pygments_lexer": "ipython3",
   "version": "3.9.12"
  }
 },
 "nbformat": 4,
 "nbformat_minor": 5
}
